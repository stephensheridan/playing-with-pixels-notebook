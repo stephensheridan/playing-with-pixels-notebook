{
 "cells": [
  {
   "cell_type": "code",
   "execution_count": 4,
   "metadata": {},
   "outputs": [
    {
     "name": "stdout",
     "output_type": "stream",
     "text": [
      "0.16.2\n"
     ]
    }
   ],
   "source": [
    "import numpy as np\n",
    "import skimage.io\n",
    "import skimage.viewer\n",
    "import matplotlib.pyplot as plt\n",
    "print(skimage.__version__)"
   ]
  },
  {
   "cell_type": "code",
   "execution_count": 39,
   "metadata": {},
   "outputs": [],
   "source": [
    "image = [[0.,0.,0.],\n",
    " [0.,1.,0.],\n",
    " [0.,0.,0.],\n",
    " [0.,1.,0.],\n",
    " [0.,0.,0.]]"
   ]
  },
  {
   "cell_type": "code",
   "execution_count": 40,
   "metadata": {},
   "outputs": [
    {
     "data": {
      "text/plain": [
       "<matplotlib.image.AxesImage at 0x7fdb724f9e50>"
      ]
     },
     "execution_count": 40,
     "metadata": {},
     "output_type": "execute_result"
    },
    {
     "data": {
      "image/png": "[encoded data removed]",
      "text/plain": [
       "<Figure size 432x288 with 1 Axes>"
      ]
     },
     "metadata": {
      "needs_background": "light"
     },
     "output_type": "display_data"
    }
   ],
   "source": [
    "plt.imshow(image, cmap=plt.cm.gray)"
   ]
  },
  {
   "cell_type": "code",
   "execution_count": 41,
   "metadata": {},
   "outputs": [
    {
     "name": "stdout",
     "output_type": "stream",
     "text": [
      "[[0.60597828 0.73336936 0.13894716 0.31267308]\n",
      " [0.99724328 0.12816238 0.17899311 0.75292543]\n",
      " [0.66216051 0.78431013 0.0968944  0.05857129]\n",
      " [0.96239599 0.61655744 0.08662996 0.56127236]]\n"
     ]
    }
   ],
   "source": [
    "#set the random seed so we all get the same matrix\n",
    "pseudorandomizer = np.random.RandomState(2021)\n",
    "#create a 4 X 4 checkerboard of random colors\n",
    "#checkerboard = pseudorandomizer.randint(0,255,size=(4,4,3))\n",
    "checkerboard = pseudorandomizer.random(size=(4,4))\n",
    "print(checkerboard)"
   ]
  },
  {
   "cell_type": "code",
   "execution_count": 44,
   "metadata": {},
   "outputs": [
    {
     "data": {
      "text/plain": [
       "<matplotlib.image.AxesImage at 0x7fdb7259e970>"
      ]
     },
     "execution_count": 44,
     "metadata": {},
     "output_type": "execute_result"
    },
    {
     "data": {
      "image/png": "[encoded data removed]",
      "text/plain": [
       "<Figure size 432x288 with 1 Axes>"
      ]
     },
     "metadata": {
      "needs_background": "light"
     },
     "output_type": "display_data"
    }
   ],
   "source": [
    "plt.imshow(checkerboard, cmap=plt.cm.gray)"
   ]
  },
  {
   "cell_type": "code",
   "execution_count": 31,
   "metadata": {},
   "outputs": [
    {
     "name": "stdout",
     "output_type": "stream",
     "text": [
      "[[[116  85  57]\n",
      "  [128 109  94]\n",
      "  [214  44  62]\n",
      "  [219 157  21]]\n",
      "\n",
      " [[ 93 152 140]\n",
      "  [246 198 102]\n",
      "  [ 70  33 101]\n",
      "  [  7   1 110]]\n",
      "\n",
      " [[225 124 229]\n",
      "  [154 194 176]\n",
      "  [227  63  49]\n",
      "  [144 178  54]]\n",
      "\n",
      " [[123 180  93]\n",
      "  [120   5  49]\n",
      "  [166 234 142]\n",
      "  [ 71  85  70]]]\n"
     ]
    }
   ],
   "source": []
  },
  {
   "cell_type": "code",
   "execution_count": null,
   "metadata": {},
   "outputs": [],
   "source": []
  }
 ],
 "metadata": {
  "kernelspec": {
   "display_name": "Python 3",
   "language": "python",
   "name": "python3"
  },
  "language_info": {
   "codemirror_mode": {
    "name": "ipython",
    "version": 3
   },
   "file_extension": ".py",
   "mimetype": "text/x-python",
   "name": "python",
   "nbconvert_exporter": "python",
   "pygments_lexer": "ipython3",
   "version": "3.8.3"
  }
 },
 "nbformat": 4,
 "nbformat_minor": 4
}
